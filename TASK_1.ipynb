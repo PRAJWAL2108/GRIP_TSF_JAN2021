{
  "nbformat": 4,
  "nbformat_minor": 0,
  "metadata": {
    "colab": {
      "name": "TASK_1.ipynb",
      "provenance": []
    },
    "kernelspec": {
      "name": "python3",
      "display_name": "Python 3"
    }
  },
  "cells": [
    {
      "cell_type": "markdown",
      "metadata": {
        "id": "z99ozRpe-jiw"
      },
      "source": [
        "### **TASK 1 : PREDICTION USING SUPERVISED ML**\n",
        "\n",
        "*   Predict the percentage of a student based on number of hours they study\n",
        "\n",
        "*   What will be the predicted score if a student studies for 9.25 hours a day ?\n",
        "\n",
        "\n",
        "---\n",
        "\n",
        "\n",
        "### AUTHOR : PRAJWAL S"
      ]
    },
    {
      "cell_type": "markdown",
      "metadata": {
        "id": "pO-m6YDSAxCv"
      },
      "source": [
        "### **Importing the libraries**\n",
        "\n",
        "*   Here, we will be importing the necessary libraries required.\n",
        "\n",
        "\n",
        "\n",
        "\n"
      ]
    },
    {
      "cell_type": "code",
      "metadata": {
        "id": "Q4xeF7xwAPLU"
      },
      "source": [
        "import numpy as np\n",
        "import matplotlib.pyplot as plt\n",
        "import pandas as pd\n",
        "from sklearn.linear_model import LinearRegression\n",
        "from sklearn.utils import shuffle\n",
        "from sklearn import metrics "
      ],
      "execution_count": 48,
      "outputs": []
    },
    {
      "cell_type": "markdown",
      "metadata": {
        "id": "F2B16hVWB7m9"
      },
      "source": [
        "### **Importing the Dataset**\n",
        "*   Here, we will be importing the dataset required for our model.\n",
        "*   The data was provided by the TSF, which was stored as a .csv file.\n"
      ]
    },
    {
      "cell_type": "code",
      "metadata": {
        "id": "0LrCWdY6CD7L"
      },
      "source": [
        "data_set = pd.read_csv(\"http://bit.ly/w-data\")"
      ],
      "execution_count": 18,
      "outputs": []
    },
    {
      "cell_type": "code",
      "metadata": {
        "colab": {
          "base_uri": "https://localhost:8080/"
        },
        "id": "ZX0k0oLSq4Un",
        "outputId": "401f20e1-b5a2-451b-a527-b8fc709cd38e"
      },
      "source": [
        "print(data_set)"
      ],
      "execution_count": 19,
      "outputs": [
        {
          "output_type": "stream",
          "text": [
            "    Hours  Scores\n",
            "0     2.5      21\n",
            "1     5.1      47\n",
            "2     3.2      27\n",
            "3     8.5      75\n",
            "4     3.5      30\n",
            "5     1.5      20\n",
            "6     9.2      88\n",
            "7     5.5      60\n",
            "8     8.3      81\n",
            "9     2.7      25\n",
            "10    7.7      85\n",
            "11    5.9      62\n",
            "12    4.5      41\n",
            "13    3.3      42\n",
            "14    1.1      17\n",
            "15    8.9      95\n",
            "16    2.5      30\n",
            "17    1.9      24\n",
            "18    6.1      67\n",
            "19    7.4      69\n",
            "20    2.7      30\n",
            "21    4.8      54\n",
            "22    3.8      35\n",
            "23    6.9      76\n",
            "24    7.8      86\n"
          ],
          "name": "stdout"
        }
      ]
    },
    {
      "cell_type": "markdown",
      "metadata": {
        "id": "8OPOo15AwzVb"
      },
      "source": [
        "### **Cleaning the Dataset**\n",
        "*   This step is very important step because we need to make sure that the data we have is not having any missing values.\n",
        "*   If the data is having any missing values, then we will need to find/calculate it."
      ]
    },
    {
      "cell_type": "code",
      "metadata": {
        "colab": {
          "base_uri": "https://localhost:8080/"
        },
        "id": "b2h6gdo7w1SZ",
        "outputId": "57ab88e5-4755-4ff4-db62-8e5dd76dc0ad"
      },
      "source": [
        "null_values = data_set.isnull().sum()\n",
        "print(null_values)"
      ],
      "execution_count": 20,
      "outputs": [
        {
          "output_type": "stream",
          "text": [
            "Hours     0\n",
            "Scores    0\n",
            "dtype: int64\n"
          ],
          "name": "stdout"
        }
      ]
    },
    {
      "cell_type": "markdown",
      "metadata": {
        "id": "TfNLAExMuih4"
      },
      "source": [
        "### **Randomizing the Dataset**\n",
        "*   In this step, we will be shuffling the data present in the data set."
      ]
    },
    {
      "cell_type": "code",
      "metadata": {
        "colab": {
          "base_uri": "https://localhost:8080/"
        },
        "id": "6-rrOqV4rgnV",
        "outputId": "5a71b6e2-807e-47d9-992c-4f0e31ff222c"
      },
      "source": [
        "data_set = shuffle(data_set)\n",
        "print(data_set)"
      ],
      "execution_count": 16,
      "outputs": [
        {
          "output_type": "stream",
          "text": [
            "    Hours  Scores\n",
            "21    4.8      54\n",
            "18    6.1      67\n",
            "24    7.8      86\n",
            "0     2.5      21\n",
            "17    1.9      24\n",
            "20    2.7      30\n",
            "10    7.7      85\n",
            "13    3.3      42\n",
            "3     8.5      75\n",
            "5     1.5      20\n",
            "7     5.5      60\n",
            "9     2.7      25\n",
            "22    3.8      35\n",
            "4     3.5      30\n",
            "8     8.3      81\n",
            "2     3.2      27\n",
            "23    6.9      76\n",
            "6     9.2      88\n",
            "14    1.1      17\n",
            "12    4.5      41\n",
            "19    7.4      69\n",
            "11    5.9      62\n",
            "15    8.9      95\n",
            "16    2.5      30\n",
            "1     5.1      47\n"
          ],
          "name": "stdout"
        }
      ]
    },
    {
      "cell_type": "markdown",
      "metadata": {
        "id": "PTE11ItwvGuB"
      },
      "source": [
        "### **Visualization of the Dataset**\n",
        "*   Visualization of data is done by plotting a graph.\n",
        "*   This is the place where matplotlib library becomes important."
      ]
    },
    {
      "cell_type": "code",
      "metadata": {
        "colab": {
          "base_uri": "https://localhost:8080/",
          "height": 295
        },
        "id": "X39bXHfzvN9B",
        "outputId": "25fb4d30-8f8a-43d7-ae22-ccad948045a2"
      },
      "source": [
        "data_set.plot(x='Hours', y='Scores', style='o')  \n",
        "plt.title('Plot of No of hours studied VS Percentage Scored')  \n",
        "plt.xlabel('No of hours studied')  \n",
        "plt.ylabel('Percentage Score')  \n",
        "plt.show()"
      ],
      "execution_count": 23,
      "outputs": [
        {
          "output_type": "display_data",
          "data": {
            "image/png": "[encoded data removed]",
            "text/plain": [
              "<Figure size 432x288 with 1 Axes>"
            ]
          },
          "metadata": {
            "tags": [],
            "needs_background": "light"
          }
        }
      ]
    },
    {
      "cell_type": "markdown",
      "metadata": {
        "id": "KmHxTBKx7EYq"
      },
      "source": [
        "### **Categorizing the data into train and test set**"
      ]
    },
    {
      "cell_type": "code",
      "metadata": {
        "id": "2yrjmL3M7OJZ"
      },
      "source": [
        "x = dataset.iloc[:, :-1].values\n",
        "y = dataset.iloc[:, -1].values"
      ],
      "execution_count": 24,
      "outputs": []
    },
    {
      "cell_type": "code",
      "metadata": {
        "id": "jsGFsBml7S81"
      },
      "source": [
        "from sklearn.model_selection import train_test_split  \n",
        "x_train, x_test, y_train, y_test = train_test_split(x, y, test_size=0.2, random_state=0) "
      ],
      "execution_count": 25,
      "outputs": []
    },
    {
      "cell_type": "markdown",
      "metadata": {
        "id": "lQIT-bSV7zQg"
      },
      "source": [
        "### **Selecting and Training the Model**"
      ]
    },
    {
      "cell_type": "markdown",
      "metadata": {
        "id": "L1Okl1GP8CUo"
      },
      "source": [
        "*   Here, we will be implementing the Linear Regression Model as there is a linear relationship between the No of hours studied(x-axis) and the Percentage scored(y-axis). \n",
        "\n",
        "*   Now, we will train the Model.\n",
        "\n"
      ]
    },
    {
      "cell_type": "code",
      "metadata": {
        "colab": {
          "base_uri": "https://localhost:8080/"
        },
        "id": "1KF1dGLa77XE",
        "outputId": "9208c962-cc4f-48b1-f927-85a56e1a4d06"
      },
      "source": [
        "regressor = LinearRegression()  \n",
        "regressor.fit(x_train, y_train) "
      ],
      "execution_count": 29,
      "outputs": [
        {
          "output_type": "execute_result",
          "data": {
            "text/plain": [
              "LinearRegression(copy_X=True, fit_intercept=True, n_jobs=None, normalize=False)"
            ]
          },
          "metadata": {
            "tags": []
          },
          "execution_count": 29
        }
      ]
    },
    {
      "cell_type": "code",
      "metadata": {
        "colab": {
          "base_uri": "https://localhost:8080/",
          "height": 295
        },
        "id": "vXnjRup79Hc7",
        "outputId": "9d63afdc-f5cc-499b-e09e-a6535df390a2"
      },
      "source": [
        "# Plotting the regression line using the slope intercept form y=mx+b \n",
        "# Here, m = regressor.coef_ and b = regressor.intercept_\n",
        "line = (regressor.coef_*x)+(regressor.intercept_)\n",
        "# Plotting the scatter plot for the test data\n",
        "plt.scatter(x, y, c=\"red\")\n",
        "plt.plot(x, line, c=\"black\");\n",
        "plt.xlabel('No of hours studied')  \n",
        "plt.ylabel('Percentage Score')\n",
        "plt.title('Scatter plot of No of hours studied VS Percentage Scored') \n",
        "plt.show()"
      ],
      "execution_count": 31,
      "outputs": [
        {
          "output_type": "display_data",
          "data": {
            "image/png": "[encoded data removed]",
            "text/plain": [
              "<Figure size 432x288 with 1 Axes>"
            ]
          },
          "metadata": {
            "tags": [],
            "needs_background": "light"
          }
        }
      ]
    },
    {
      "cell_type": "markdown",
      "metadata": {
        "id": "7xFuihRU_y7a"
      },
      "source": [
        "### **Predicting the Model**"
      ]
    },
    {
      "cell_type": "code",
      "metadata": {
        "colab": {
          "base_uri": "https://localhost:8080/"
        },
        "id": "RWnpVu0T_1-s",
        "outputId": "d009a22f-e33b-48b2-e08d-6b4bccb0a883"
      },
      "source": [
        "print(x_test) # Testing data - In Hours\n",
        "y_pred = regressor.predict(x_test) # Predicting the scores"
      ],
      "execution_count": 32,
      "outputs": [
        {
          "output_type": "stream",
          "text": [
            "[[1.5]\n",
            " [3.2]\n",
            " [7.4]\n",
            " [2.5]\n",
            " [5.9]]\n"
          ],
          "name": "stdout"
        }
      ]
    },
    {
      "cell_type": "code",
      "metadata": {
        "colab": {
          "base_uri": "https://localhost:8080/"
        },
        "id": "TUa-eJ9hAEx_",
        "outputId": "e29a5f26-e342-4d05-ca32-cde486aa71a9"
      },
      "source": [
        "# Comparing Actual Outcome vs Predicted Outcome\n",
        "df = pd.DataFrame({'Actual Outcome': y_test, 'Predicted Outcome': y_pred})  \n",
        "print(df) "
      ],
      "execution_count": 33,
      "outputs": [
        {
          "output_type": "stream",
          "text": [
            "   Actual Outcome  Predicted Outcome\n",
            "0              20          16.884145\n",
            "1              27          33.732261\n",
            "2              69          75.357018\n",
            "3              30          26.794801\n",
            "4              62          60.491033\n"
          ],
          "name": "stdout"
        }
      ]
    },
    {
      "cell_type": "code",
      "metadata": {
        "colab": {
          "base_uri": "https://localhost:8080/"
        },
        "id": "tkMlXkY6AWHc",
        "outputId": "83974b6e-56a2-4730-ff19-252f5dc91c03"
      },
      "source": [
        "hour = 9.25\n",
        "pred = regressor.predict([[hour]])\n",
        "print(pred)\n",
        "print(f\"No of Hours the student studies in a day = {hour}\")\n",
        "print(f\"Predicted Percentage of the student = {pred[0]}\")"
      ],
      "execution_count": 46,
      "outputs": [
        {
          "output_type": "stream",
          "text": [
            "[93.69173249]\n",
            "No of Hours the student studies in a day = 9.25\n",
            "Predicted Percentage of the student = 93.69173248737539\n"
          ],
          "name": "stdout"
        }
      ]
    },
    {
      "cell_type": "markdown",
      "metadata": {
        "id": "yl82cJzbCt5J"
      },
      "source": [
        "### **Evaluating the Model**"
      ]
    },
    {
      "cell_type": "code",
      "metadata": {
        "colab": {
          "base_uri": "https://localhost:8080/"
        },
        "id": "CB73ZTWPCy43",
        "outputId": "6242d27c-20f8-4e48-f23a-9673d706ed80"
      },
      "source": [
        "print('Mean Absolute Error:', metrics.mean_absolute_error(y_test, y_pred)) \n",
        "print('R square score:', regressor.score(x_test, y_test)) "
      ],
      "execution_count": 51,
      "outputs": [
        {
          "output_type": "stream",
          "text": [
            "Mean Absolute Error: 4.183859899002982\n",
            "R square score: 0.9454906892105354\n"
          ],
          "name": "stdout"
        }
      ]
    }
  ]
}